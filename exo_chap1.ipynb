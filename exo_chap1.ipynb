{
 "cells": [
  {
   "cell_type": "code",
   "execution_count": null,
   "id": "d6905b17-5099-4b10-9f00-b80800e98b44",
   "metadata": {},
   "outputs": [],
   "source": [
    "#TODO 1: Read all the data from bc.csv, how many rows is there ? Columns ?\n",
    "\n",
    "#TODO 2: Insert the bc.csv in the sqlite format.\n",
    "\n",
    "#TODO 3: In the same db create a new table called tomatch with two variables id_ and rdm_float.\n",
    "\n",
    "#TODO 4: In the table tomatch insert observations where the id_ starts from 50k, ends at 10000000 and is only even numbers. rdm_float is a float random for each observation.\n",
    "\n",
    "#TODO 5: Do an Inner join between the two tables and compute the different aggregate functions on a column of your choice.\n",
    "\n",
    "#TODO 6: How many observations have a radius_mean greater than 15 ? From them how many have a texture_mean greater than 20 ?"
   ]
  },
  {
   "cell_type": "code",
   "execution_count": null,
   "id": "a08c6f5f-2c85-4fc2-a866-fb0c0f2098b8",
   "metadata": {},
   "outputs": [
    {
     "name": "stdout",
     "output_type": "stream",
     "text": [
      "Number of Rows:  569\n",
      "Number of Columns:  33\n"
     ]
    }
   ],
   "source": [
    "#TODO 1: Read all the data from bc.csv, how many rows is there ? Columns ?\n",
    "\n",
    "import pandas as pd\n",
    "\n",
    "df = pd.read_csv(\"C:/Users/sloua/OneDrive/Desktop/NoSQL-master/NoSQL-master/data/Chap1/bc.csv\")\n",
    "df.head(5)\n",
    "\n",
    "rows = len(df.axes[0])\n",
    "cols = len(df.axes[1])\n",
    " \n",
    "print(\"Number of Rows: \", rows)\n",
    "print(\"Number of Columns: \", cols)"
   ]
  },
  {
   "cell_type": "code",
   "execution_count": 3,
   "id": "01b17406-0008-48af-993d-f4aaa22587e4",
   "metadata": {},
   "outputs": [
    {
     "data": {
      "text/plain": [
       "569"
      ]
     },
     "execution_count": 3,
     "metadata": {},
     "output_type": "execute_result"
    }
   ],
   "source": [
    "#TODO 2: Insert the bc.csv in the sqlite format.\n",
    "\n",
    "import sqlite3\n",
    "\n",
    "conn = sqlite3.connect('C:/Users/sloua/OneDrive/Desktop/NoSQL-master/NoSQL-master/data/Chap1/bc.db')\n",
    "\n",
    "df.to_sql('bc', conn, if_exists='replace')"
   ]
  },
  {
   "cell_type": "code",
   "execution_count": 4,
   "id": "7c513639-3b31-47d5-8eca-440ea5f9b2e2",
   "metadata": {},
   "outputs": [
    {
     "data": {
      "text/plain": [
       "<sqlite3.Cursor at 0x1d4e57ca960>"
      ]
     },
     "execution_count": 4,
     "metadata": {},
     "output_type": "execute_result"
    }
   ],
   "source": [
    "#TODO 3: In the same db create a new table called tomatch with two variables id_ and rdm_float.\n",
    "\n",
    "import csv\n",
    "import sqlite3\n",
    "\n",
    "conn = sqlite3.connect('C:/Users/sloua/OneDrive/Desktop/NoSQL-master/NoSQL-master/data/Chap1/bc.db')\n",
    "\n",
    "c = conn.cursor()\n",
    "\n",
    "c.execute('CREATE TABLE IF NOT EXISTS tomatch (id_ INTEGER, rdm_float FLOAT)')"
   ]
  },
  {
   "cell_type": "code",
   "execution_count": 10,
   "id": "82f811dd-4e8e-427d-8521-f82dd830b165",
   "metadata": {},
   "outputs": [],
   "source": [
    "#TODO 4: In the table tomatch insert observations where the id_ starts from 50k, ends at 10000000 and is only even numbers. rdm_float is a float random for each observation.\n",
    "\n",
    "import sqlite3\n",
    "import random\n",
    "\n",
    "conn = sqlite3.connect('C:/Users/sloua/OneDrive/Desktop/NoSQL-master/NoSQL-master/data/Chap1/bc.db')\n",
    "c = conn.cursor()\n",
    "\n",
    "for i in range(50000, 10000001, 2):\n",
    "    rdm_float = random.uniform(0.0, 1.0)\n",
    "    c.execute('INSERT INTO tomatch (id_, rdm_float) VALUES (?, ?)', (i, rdm_float))\n",
    "\n",
    "conn.commit()\n",
    "conn.close()"
   ]
  },
  {
   "cell_type": "code",
   "execution_count": 13,
   "id": "a05f5270-4732-47ce-b479-94d24742b783",
   "metadata": {},
   "outputs": [
    {
     "name": "stdout",
     "output_type": "stream",
     "text": [
      "          id  COUNT(*)  AVG(tomatch.rdm_float)  MAX(bc.radius_mean)  \\\n",
      "0      86208         2                0.324177               20.260   \n",
      "1      86408         2                0.477902               12.630   \n",
      "2      87106         2                0.274538               11.150   \n",
      "3      87164         2                0.232324               15.460   \n",
      "4      87880         2                0.403629               13.810   \n",
      "..       ...       ...                     ...                  ...   \n",
      "238  9113514         2                0.768325                9.668   \n",
      "239  9113538         2                0.741733               17.600   \n",
      "240  9113778         2                0.382886                9.667   \n",
      "241  9113816         2                0.491591               12.040   \n",
      "242  9113846         2                0.753503               12.270   \n",
      "\n",
      "     MIN(bc.radius_mean)  \n",
      "0                 20.260  \n",
      "1                 12.630  \n",
      "2                 11.150  \n",
      "3                 15.460  \n",
      "4                 13.810  \n",
      "..                   ...  \n",
      "238                9.668  \n",
      "239               17.600  \n",
      "240                9.667  \n",
      "241               12.040  \n",
      "242               12.270  \n",
      "\n",
      "[243 rows x 5 columns]\n"
     ]
    }
   ],
   "source": [
    "#TODO 5: Do an Inner join between the two tables and compute the different aggregate functions on a column of your choice.\n",
    "\n",
    "import sqlite3\n",
    "import pandas as pd\n",
    "\n",
    "# create a connection to the SQLite database\n",
    "conn = sqlite3.connect('C:/Users/sloua/OneDrive/Desktop/NoSQL-master/NoSQL-master/data/Chap1/bc.db')\n",
    "\n",
    "query = \"\"\"SELECT bc.id, COUNT(*), AVG(tomatch.rdm_float), MAX(bc.radius_mean), MIN(bc.radius_mean)\n",
    "             FROM bc\n",
    "             INNER JOIN tomatch ON bc.id = tomatch.id_\n",
    "             GROUP BY bc.id\n",
    "             \"\"\"\n",
    "\n",
    "df = pd.read_sql_query(query, conn)\n",
    "\n",
    "# print the resulting DataFrame\n",
    "print(df)"
   ]
  },
  {
   "cell_type": "code",
   "execution_count": 12,
   "id": "0cf4d4b7-edd9-4ce9-b73b-49a722909c3d",
   "metadata": {},
   "outputs": [
    {
     "name": "stdout",
     "output_type": "stream",
     "text": [
      "   COUNT(*)\n",
      "0       106\n"
     ]
    }
   ],
   "source": [
    "#TODO 6: How many observations have a radius_mean greater than 15 ? From them how many have a texture_mean greater than 20 ?\n",
    "\n",
    "import sqlite3\n",
    "import pandas as pd\n",
    "\n",
    "# create a connection to the SQLite database\n",
    "conn = sqlite3.connect('C:/Users/sloua/OneDrive/Desktop/NoSQL-master/NoSQL-master/data/Chap1/bc.db')\n",
    "\n",
    "# execute the SQL query and get the results in a pandas DataFrame\n",
    "query = '''\n",
    "SELECT COUNT(*)\n",
    "FROM bc\n",
    "WHERE radius_mean > 15 AND texture_mean > 20;\n",
    "'''\n",
    "df = pd.read_sql_query(query, conn)\n",
    "\n",
    "# print the resulting count\n",
    "print(df)"
   ]
  }
 ],
 "metadata": {
  "kernelspec": {
   "display_name": "Python 3 (ipykernel)",
   "language": "python",
   "name": "python3"
  },
  "language_info": {
   "codemirror_mode": {
    "name": "ipython",
    "version": 3
   },
   "file_extension": ".py",
   "mimetype": "text/x-python",
   "name": "python",
   "nbconvert_exporter": "python",
   "pygments_lexer": "ipython3",
   "version": "3.9.13"
  }
 },
 "nbformat": 4,
 "nbformat_minor": 5
}
